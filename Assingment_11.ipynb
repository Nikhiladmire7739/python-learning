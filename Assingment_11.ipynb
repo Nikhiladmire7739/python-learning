{
  "nbformat": 4,
  "nbformat_minor": 0,
  "metadata": {
    "colab": {
      "provenance": [],
      "authorship_tag": "ABX9TyMW0k8igZNTDxx4sqWqslK0",
      "include_colab_link": true
    },
    "kernelspec": {
      "name": "python3",
      "display_name": "Python 3"
    },
    "language_info": {
      "name": "python"
    }
  },
  "cells": [
    {
      "cell_type": "markdown",
      "metadata": {
        "id": "view-in-github",
        "colab_type": "text"
      },
      "source": [
        "<a href=\"https://colab.research.google.com/github/Nikhiladmire7739/python-learning/blob/master/Assingment_11.ipynb\" target=\"_parent\"><img src=\"https://colab.research.google.com/assets/colab-badge.svg\" alt=\"Open In Colab\"/></a>"
      ]
    },
    {
      "cell_type": "markdown",
      "source": [
        "#ASSINGMENT_11\n",
        "**Q1 Create an assert statement that throws an AssertionError if the variable spam is a negative\n",
        "integer.**\n",
        "\n",
        "<br>1) assert(spam >= 0, 'The spam variable is less than 10.')\n",
        "\n",
        "**Q2 Write an assert statement that triggers an AssertionError if the variables eggs and bacon contain\n",
        "strings that are the same as each other, even if their cases are different (that is, &#39;hello&#39; and &#39;hello&#39; are\n",
        "considered the same, and &#39;goodbye&#39; and &#39;GOODbye&#39; are also considered the same).**\n",
        "\n",
        "<br>1) assert eggs.lower() != bacon.lower(), 'eggs/bacon should not be the same!'\n",
        "\n",
        "**Q3 Create an assert statement that throws an AssertionError every time.**\n",
        "\n",
        "<br>1) assert False, 'This assertion always triggers.\n",
        "\n",
        "**Q4 What are the two lines that must be present in your software in order to call logging.debug()?**\n",
        "\n",
        "<pre>\n",
        "import logging\n",
        "logging.basicConfig(level=logging.DEBUG, format=' %(asctime)s -\n",
        "%(levelname)s - %(message)s')</pre>\n",
        "\n",
        "**Q5 What are the two lines that your program must have in order to have logging.debug() send a\n",
        "logging message to a file named programLog.txt?**\n",
        "\n",
        "<pre>\n",
        "import logging\n",
        "logging.basicConfig(filename='programLog.txt', level=logging.DEBUG, format=' %(asctime)s - %(levelname)s - %(message)s')\n",
        "</pre>\n",
        "\n",
        "**Q6 What are the five levels of logging?**\n",
        "\n",
        "<br>1) DEBUG, INFO, WARNING, ERROR, and CRITICAL\n",
        "\n",
        "**Q7 What line of code would you add to your software to disable all logging messages?**\n",
        "\n",
        "<pre>logging.disable(logging.CRITICAL)</pre>\n",
        "\n",
        "**Q8 Why is using logging messages better than using print() to display the same message?**\n",
        "\n",
        "<br>1) You can disable logging messages without removing the logging function calls. You can selectively disable lower-level logging messages. You can create logging messages. Logging messages provides a timestamp.\n",
        "\n",
        "**Q9 What are the differences between the Step Over, Step In, and Step Out buttons in the debugger?**\n",
        "\n",
        "<br>1) The Step button will move the debugger into a function call. The Over button will quickly execute the function call without stepping into it. The Out button will quickly execute the rest of the code until it steps out of the function it currently is in.\n",
        "\n",
        "**Q10 After you click Continue, when will the debugger stop ?**\n",
        "\n",
        "<br>1) click Go, the debugger will stop when it has reached the end of the program or a line with a breakpoint.\n",
        "\n",
        "**Q11 What is the concept of a breakpoint?**\n",
        "\n",
        "<br>1) breakpoint is a setting on a line of code that causes the debugger to pause when the program execution reaches the line"
      ],
      "metadata": {
        "id": "TudV8mhOYAyE"
      }
    }
  ]
}