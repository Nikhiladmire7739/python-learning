{
  "nbformat": 4,
  "nbformat_minor": 0,
  "metadata": {
    "colab": {
      "provenance": [],
      "authorship_tag": "ABX9TyMzkj7CRu3dftaR/+3PDoQM",
      "include_colab_link": true
    },
    "kernelspec": {
      "name": "python3",
      "display_name": "Python 3"
    },
    "language_info": {
      "name": "python"
    }
  },
  "cells": [
    {
      "cell_type": "markdown",
      "metadata": {
        "id": "view-in-github",
        "colab_type": "text"
      },
      "source": [
        "<a href=\"https://colab.research.google.com/github/Nikhiladmire7739/python-learning/blob/master/Assingment_22.ipynb\" target=\"_parent\"><img src=\"https://colab.research.google.com/assets/colab-badge.svg\" alt=\"Open In Colab\"/></a>"
      ]
    },
    {
      "cell_type": "markdown",
      "source": [
        "#ASSINGMENT_22\n",
        "**Q1 What is the result of the code, and explain?**\n",
        "<pre>\n",
        "X = 'iNeuron'\n",
        "def func():\n",
        "    print(X)\n",
        "func()\n",
        "</pre>\n",
        "<br>code will return iNeuron, function is writtern to get a variable outside function and print it.\n",
        "\n",
        "**Q2 What is the result of the code, and explain?**\n",
        "<pre>\n",
        "X = 'iNeuron'\n",
        "def func():\n",
        "    X='Ni!'\n",
        "func()\n",
        "print(X)\n",
        "</pre>\n",
        "<br>print function prints the value of Global scope X variable.\n",
        "\n",
        "**Q3 What does this code print, and why?**\n",
        "\n",
        "<pre>\n",
        "X = 'iNeuron'\n",
        "def func():\n",
        "    X='NI'\n",
        "    print(X)\n",
        "func()\n",
        "print(X)\n",
        "</pre>\n",
        "<br>first when func() is called it runs func() and prints 'NI' Local scope 'X' variable. print(X) prints the value of Global scope X variable.\n",
        "\n",
        "**Q4 What output does this code produce? Why?**\n",
        "\n",
        "<pre>\n",
        "X = 'iNeuron'\n",
        "def func():\n",
        "    global X\n",
        "    X='NI'\n",
        "func()\n",
        "print(X)\n",
        "</pre>\n",
        "<br>first when func() is called it runs func() and code access the gloabl variale X because of the global keyword and update its value to 'NI'. print(X) prints the value of Global scope X variable 'NI'.\n",
        "\n",
        "**Q5 What about this code—what’s the output, and why?**\n",
        "<pre>\n",
        "X = 'iNeuron'\n",
        "def func():\n",
        "    X = \"NI\"\n",
        "def nested():\n",
        "    print(X)\n",
        "nested()\n",
        "func()\n",
        "X\n",
        "</pre>\n",
        "<br>On global x variable and two functions are written, in func() we have local X variable is created and in function nested() we print the gloabal X variable.\n",
        "\n",
        "**Q6 How about this code: what is its output in Python 3, and explain?**\n",
        "\n",
        "<pre>\n",
        "def func():\n",
        "    X='NI'\n",
        "    def nested():\n",
        "        nonlocal X\n",
        "        X='Spam'\n",
        "    nested()\n",
        "    print(X)\n",
        "func()\n",
        "</pre>\n",
        "<br>The given code defines a function func() that contains a nested function nested(). The purpose of func() is to set the value of the variable X to 'Spam' by using the nonlocal keyword within the nested() function."
      ],
      "metadata": {
        "id": "jw7oQaN42PwC"
      }
    }
  ]
}