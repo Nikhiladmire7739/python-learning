{
  "nbformat": 4,
  "nbformat_minor": 0,
  "metadata": {
    "colab": {
      "provenance": [],
      "authorship_tag": "ABX9TyNFXSoJ6LXsyuN/KeBklqUf",
      "include_colab_link": true
    },
    "kernelspec": {
      "name": "python3",
      "display_name": "Python 3"
    },
    "language_info": {
      "name": "python"
    }
  },
  "cells": [
    {
      "cell_type": "markdown",
      "metadata": {
        "id": "view-in-github",
        "colab_type": "text"
      },
      "source": [
        "<a href=\"https://colab.research.google.com/github/Nikhiladmire7739/python-learning/blob/master/Assingment_8.ipynb\" target=\"_parent\"><img src=\"https://colab.research.google.com/assets/colab-badge.svg\" alt=\"Open In Colab\"/></a>"
      ]
    },
    {
      "cell_type": "markdown",
      "source": [
        "#ASSINGMENT_8\n",
        "**Q1 Is the Python Standard Library included with PyInputPlus?**\n",
        "\n",
        "<br>1) PyInputPlus is not a part of the Python Standard Library, we must install it separately using Pip.\n",
        "\n",
        "**Q2 Why is PyInputPlus commonly imported with import pyinputplus as pypi?**\n",
        "\n",
        "<br>1) You can import the module with import pyinputplus as pyip so that you can enter a shorter name when calling the module’s functions\n",
        "\n",
        "**Q3 How do you distinguish between inputInt() and inputFloat()?**\n",
        "\n",
        "<br>1) The difference is in the data-type when you use the first one the program expects an integer value as input but in the latter it expects a float value i.e number containing a decimal\n",
        "\n",
        "**Q4 Using PyInputPlus, how do you ensure that the user enters a whole number between 0 and 99?**\n",
        "\n",
        "<br>1) By using pyip.inputint(min=0, max=99)\n",
        "\n",
        "**Q5 What is transferred to the keyword arguments allowRegexes and blockRegexes?**\n",
        "\n",
        "<br>1) A list of regex strings that are either explicitly allowed or denied\n",
        "\n",
        "**Q6 If a blank input is entered three times, what does inputStr(limit=3) do?**\n",
        "\n",
        "<br>1) The function will raise RetryLimitException.\n",
        "\n",
        "**Q7 If blank input is entered three times, what does inputStr(limit=3, default='hello') do?**\n",
        "\n",
        "<br>1) The function returns the value 'hello'"
      ],
      "metadata": {
        "id": "HXx-G_Z64HtY"
      }
    }
  ]
}