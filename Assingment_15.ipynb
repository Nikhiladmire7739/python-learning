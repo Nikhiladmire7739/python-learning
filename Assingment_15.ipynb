{
  "nbformat": 4,
  "nbformat_minor": 0,
  "metadata": {
    "colab": {
      "provenance": [],
      "authorship_tag": "ABX9TyP4QRDeqK2A9Qxaj4qaDExN",
      "include_colab_link": true
    },
    "kernelspec": {
      "name": "python3",
      "display_name": "Python 3"
    },
    "language_info": {
      "name": "python"
    }
  },
  "cells": [
    {
      "cell_type": "markdown",
      "metadata": {
        "id": "view-in-github",
        "colab_type": "text"
      },
      "source": [
        "<a href=\"https://colab.research.google.com/github/Nikhiladmire7739/python-learning/blob/master/Assingment_15.ipynb\" target=\"_parent\"><img src=\"https://colab.research.google.com/assets/colab-badge.svg\" alt=\"Open In Colab\"/></a>"
      ]
    },
    {
      "cell_type": "markdown",
      "source": [
        "#ASSINGMENT_15\n",
        "**Q1 1.How many seconds are in an hour? Use the interactive interpreter as a calculator and multiply the number of seconds in a minute (60) by the number of minutes in an hour (also 60).**\n",
        "\n",
        "<br>1) 60*60\n",
        "\n",
        "**Q2 Assign the result from the previous task (seconds in an hour) to a variable called seconds_per_hour.**\n",
        "\n",
        "<pre>\n",
        "seconds_per_hour = 60 * 60\n",
        "seconds_per_hour\n",
        "</pre>\n",
        "\n",
        "**Q3 How many seconds do you think there are in a day? Make use of the variables seconds per hour and minutes per hour.**\n",
        "\n",
        "<pre>\n",
        "hours_in_day  = 24\n",
        "seconds_per_hour = 60 * 60\n",
        "seconds_per_day = hours_in_day * seconds_per_hour\n",
        "seconds_per_day\n",
        "</pre>\n",
        "\n",
        "**Q4 Calculate seconds per day again, but this time save the result in a variable called seconds_per_day**\n",
        "\n",
        "<pre>\n",
        "hours_in_day  = 24\n",
        "seconds_per_hour = 60 * 60\n",
        "seconds_per_day = hours_in_day * seconds_per_hour\n",
        "seconds_per_day\n",
        "</pre>\n",
        "\n",
        "**Q5 Divide seconds_per_day by seconds_per_hour. Use floating-point (/) division.**\n",
        "\n",
        "<pre>\n",
        "hours_in_day  = 24\n",
        "seconds_per_hour = 60 * 60\n",
        "seconds_per_day = hours_in_day * seconds_per_hour\n",
        "seconds_per_day/seconds_per_hour\n",
        "</pre>\n",
        "\n",
        "\n",
        "**Q6 Divide seconds_per_day by seconds_per_hour, using integer (//) division. Did this number agree with the floating-point value from the previous question, aside from the final .0?**\n",
        "\n",
        "<pre># YES this number agrees\n",
        "seconds_per_day // seconds_per_hour\n",
        "</pre>\n",
        "\n",
        "**Q7 Write a generator, genPrimes, that returns the sequence of prime numbers on successive calls to its next() method: 2, 3, 5, 7, 11, ...**\n",
        "\n",
        "<pre>\n",
        "def genPrimes():\n",
        "    n = 2\n",
        "    primes = []\n",
        "    while True:\n",
        "        for p in primes:\n",
        "            if n % p == 0:\n",
        "                break\n",
        "        else:\n",
        "            primes.append(n)\n",
        "            yield n\n",
        "        n += 1\n",
        "</pre>"
      ],
      "metadata": {
        "id": "ogJeFz1DcVxP"
      }
    }
  ]
}