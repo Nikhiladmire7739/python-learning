{
  "nbformat": 4,
  "nbformat_minor": 0,
  "metadata": {
    "colab": {
      "provenance": [],
      "authorship_tag": "ABX9TyMnmCDd6uFTD49b/rdYBJsT",
      "include_colab_link": true
    },
    "kernelspec": {
      "name": "python3",
      "display_name": "Python 3"
    },
    "language_info": {
      "name": "python"
    }
  },
  "cells": [
    {
      "cell_type": "markdown",
      "metadata": {
        "id": "view-in-github",
        "colab_type": "text"
      },
      "source": [
        "<a href=\"https://colab.research.google.com/github/Nikhiladmire7739/python-learning/blob/master/Assingment_5.ipynb\" target=\"_parent\"><img src=\"https://colab.research.google.com/assets/colab-badge.svg\" alt=\"Open In Colab\"/></a>"
      ]
    },
    {
      "cell_type": "markdown",
      "source": [
        "#ASSINGMENT_5\n",
        "**Q1 What does an empty dictionary&#39;s code look like?**\n",
        "<br>1) items= {}\n",
        "<br>2) items= dict()\n",
        "\n",
        "**Q2 What is the value of a dictionary value with the key &#39;foo&#39; and the value 42?**\n",
        "<br>1) {'foo': 42}\n",
        "\n",
        "**Q3 What is the most significant distinction between a dictionary and a list?**\n",
        "<br>1) The items in dictionary are unordered and in a list are ordered.\n",
        "\n",
        "**Q4 What happens if you try to access spam[&#39;foo&#39;] if spam is {&#39;bar&#39;: 100}?**\n",
        "<br>1) We get a KeyError error.\n",
        "\n",
        "**Q5 If a dictionary is stored in spam, what is the difference between the expressions &#39;cat&#39; in spam and &#39;cat&#39; in spam.keys()?**\n",
        "<br>1) There is no difference both the statements will look for cat in keys.\n",
        "\n",
        "**Q6 If a dictionary is stored in spam, what is the difference between the expressions &#39;cat&#39; in spam and &#39;cat&#39; in spam.values()?**\n",
        "<br>'cat' in spam checks whether there is a 'cat' key in the dictionary, while 'cat' in spam.values() checks whether there is a value 'cat' for one of the keys in spam.\n",
        "\n",
        "**Q7 What is a shortcut for the following code?**\n",
        "<br>**if 'color' not in spam:**\n",
        "<br>**spam['color'] = 'black'**\n",
        "<br>1) spam.setdefault('color', 'black')\n",
        "\n",
        "**Q8 How do you \"pretty print\" dictionary values using which module and function?**\n",
        "<br>1) pprint.pprint()"
      ],
      "metadata": {
        "id": "_moNkjJrvWl4"
      }
    }
  ]
}