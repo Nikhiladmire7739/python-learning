{
  "nbformat": 4,
  "nbformat_minor": 0,
  "metadata": {
    "colab": {
      "name": "Assingment_1.ipynb",
      "provenance": []
    },
    "kernelspec": {
      "name": "python3",
      "display_name": "Python 3"
    },
    "language_info": {
      "name": "python"
    }
  },
  "cells": [
    {
      "cell_type": "markdown",
      "source": [
        "#ASSINGMENT_1\n",
        "**Q1 In the below elements which of them are values or an expression? eg:- values can be : integer or string and expressions will be mathematical operators.**\n",
        "\n",
        "<br>1) * : It is an oprator.\n",
        "<br>2) \"hello\" : string\n",
        "<br>3) -87.8 : integer\n",
        "<br>4) - : It is an oprator.\n",
        "<br>5) / : It is an oprator.\n",
        "<br>6) + : It is an oprator.\n",
        "<br>7) 6 : it is an integer.\n",
        "\n",
        "**Q2 What is the difference between string and variable?**\n",
        "\n",
        "<br>1) String - it is a data type.\n",
        "<br>2) Variable - it is a place holder for a chunk of data, of a certain data type.\n",
        "\n",
        "**Q3 Describe three different data types.**\n",
        "\n",
        "<br>1) integer\n",
        "<br>2) string \n",
        "<br>3) boolean\n",
        "\n",
        "**Q4 What is an expression made up of? What do all expressions do?**\n",
        "\n",
        "<br>1) Expression is made up of operators and operands\n",
        "<br>2) When expression execute it produces some value.\n",
        "\n",
        "**Q5 This assignment statements, like spam = 10. What is the difference between an expression and a statement?**\n",
        "\n",
        "<br>1)Statement represents and action being done. here variable spam has been assigned the value of 10.\n",
        "<br>2)Expression is made up of operators and operands. When expression execute it produces some value.\n",
        "\n",
        "**Q6 After running the following code, what does the variable bacon contain?**\n",
        "<br>**bacon = 22**\n",
        "<br>**bacon + 1**\n",
        "\n",
        "<br>1) initially the value of bacon was 22 in the first statement.\n",
        "<br>2) in the second statemnet the value of bacon has been incremneted by 1.\n",
        "\n",
        "**Q7 What should the values of the following two terms be?**\n",
        "<br>**&#39;spam&#39; + &#39;spamspam&#39;**\n",
        "<br>**&#39;spam&#39; + &#39;spam&#39;**\n",
        "\n",
        "<br>1) spamspamspam\n",
        "<br>2) spamspamspam\n",
        "\n",
        "\n",
        "**Q8 Why is eggs a valid variable name while 100 is invalid?**\n",
        "\n",
        "<br>1) 'eggs' it is allowed to start a variable name with a alphabet, as per the naming convention rules in python.\n",
        "<br>2) '100' it is not allowed to start a variable name with a number, as per the naming convention rules in python.\n",
        "\n",
        "**Q9 What three functions can be used to get the integer, floating-point number, or string version of a value?**\n",
        "\n",
        "<br>1) int()\n",
        "<br>2) float()\n",
        "<br>3) str()\n",
        "\n",
        "**Q10 Why does this expression cause an error? How can you fix it?**\n",
        "<br>**'I have eaten ' + 99 + ' burritos.'**\n",
        "\n",
        "<br>1) Python compiler is unable to perform arthemetical operation or concatination on  different data types, in a single expression.\n",
        "<br>2) we need to perform type casting to convert number to string : So the correcr expression would be.\n",
        "\n",
        "<br> 'I have eaten ' + str(99) + ' burritos.'\n"
      ],
      "metadata": {
        "id": "j3DBoIZ2MN5k"
      }
    }
  ]
}