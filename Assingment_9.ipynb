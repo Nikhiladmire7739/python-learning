{
  "nbformat": 4,
  "nbformat_minor": 0,
  "metadata": {
    "colab": {
      "provenance": [],
      "authorship_tag": "ABX9TyO2O/FplUKCDAGRIS7r1tmA",
      "include_colab_link": true
    },
    "kernelspec": {
      "name": "python3",
      "display_name": "Python 3"
    },
    "language_info": {
      "name": "python"
    }
  },
  "cells": [
    {
      "cell_type": "markdown",
      "metadata": {
        "id": "view-in-github",
        "colab_type": "text"
      },
      "source": [
        "<a href=\"https://colab.research.google.com/github/Nikhiladmire7739/python-learning/blob/master/Assingment_9.ipynb\" target=\"_parent\"><img src=\"https://colab.research.google.com/assets/colab-badge.svg\" alt=\"Open In Colab\"/></a>"
      ]
    },
    {
      "cell_type": "markdown",
      "source": [
        "#ASSINGMENT_9\n",
        "**Q1 To what does a relative path refer?**\n",
        "\n",
        "<br>1) Relative paths are relative to the current working directory\n",
        "\n",
        "**Q2 What does an absolute path start with your operating system?**\n",
        "\n",
        "<br>1) Absolute paths start with the root folder, such as / or C:\\.\n",
        "\n",
        "**Q3 What do the functions os.getcwd() and os.chdir() do??**\n",
        "\n",
        "<br>1) The os.getcwd() function returns the current working directory. The os.chdir() function changes the current working directory\n",
        "\n",
        "**Q4 What are the . and .. folders?**\n",
        "\n",
        "<br>1) The . folder is the current folder, and .. is the parent folder\n",
        "\n",
        "**Q5 C:\\bacon\\eggs\\spam.txt, which part is the dir name, and which part is the base name?**\n",
        "\n",
        "<br>1) C:\\bacon\\eggs is the dir name, while spam.txt is the base name.\n",
        "\n",
        "**Q6 What are the three “mode” arguments that can be passed to the open() function?**\n",
        "\n",
        "<br>1) The string 'r' for read mode, 'w' for write mode, and 'a' for append mode\n",
        "\n",
        "**Q7 What happens if an existing file is opened in write mode?**\n",
        "\n",
        "<br>1) An existing file opened in write mode is erased and completely overwritten\n",
        "\n",
        "**Q8 How do you tell the difference between read() and readlines()?**\n",
        "\n",
        "<br>1) The read() method returns the file’s entire contents as a single string value. The readlines() method returns a list of strings, where each string is a line from the file’s contents.\n",
        "\n",
        "**Q9 What data structure does a shelf value resemble?**\n",
        "\n",
        "<br>1) A shelf value resembles a dictionary value; it has keys and values, along with keys() and values() methods that work similarly to the dictionary methods of the same names"
      ],
      "metadata": {
        "id": "lI34kXog50Ar"
      }
    }
  ]
}