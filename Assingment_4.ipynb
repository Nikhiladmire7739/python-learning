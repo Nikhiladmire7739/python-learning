{
  "nbformat": 4,
  "nbformat_minor": 0,
  "metadata": {
    "colab": {
      "provenance": [],
      "authorship_tag": "ABX9TyNCzhbboshEVeGdXJqd9IBh",
      "include_colab_link": true
    },
    "kernelspec": {
      "name": "python3",
      "display_name": "Python 3"
    },
    "language_info": {
      "name": "python"
    }
  },
  "cells": [
    {
      "cell_type": "markdown",
      "metadata": {
        "id": "view-in-github",
        "colab_type": "text"
      },
      "source": [
        "<a href=\"https://colab.research.google.com/github/Nikhiladmire7739/python-learning/blob/master/Assingment_4.ipynb\" target=\"_parent\"><img src=\"https://colab.research.google.com/assets/colab-badge.svg\" alt=\"Open In Colab\"/></a>"
      ]
    },
    {
      "cell_type": "code",
      "execution_count": null,
      "metadata": {
        "id": "L6BxQodxEvgQ"
      },
      "outputs": [],
      "source": [
        "#ASSINGMENT_4\n",
        "**Q1 What exactly is []?**\n",
        "\n",
        "<br>This is a list which contains no items.\n",
        "\n",
        "**Q2 In a list of values stored in a variable called spam, how would you assign the value &#39;hello&#39; as the\n",
        "third value? (Assume [2, 4, 6, 8, 10] are in spam.)**\n",
        "\n",
        "<pre>spam = [2,4,6,8,9]\n",
        "spam[2]= \"hello\"\n",
        "print(spam)</pre>\n",
        "\n",
        "**Let&#39;s pretend the spam includes the list [&#39;a&#39;, &#39;b&#39;, &#39;c&#39;, &#39;d&#39;] for the next three queries.**\n",
        "\n",
        "**Q3 What is the value of spam[int(int(&#39;3&#39; * 2) / 11)]?**\n",
        "\n",
        "<br>It results index 4 Hence 'd'.\n",
        "\n",
        "**Q4 What is the value of spam[-1]?**\n",
        "\n",
        "<br>Last index, hence 'd'.\n",
        "\n",
        "**Q5 What is the value of spam[:2]?**\n",
        "\n",
        "<br>Will result 'a' and 'b'.\n",
        "\n",
        "**Let&#39;s pretend bacon has the list [3.14, &#39;cat,&#39; 11, &#39;cat,&#39; True] for the next three questions.**\n",
        "\n",
        "**Q6 What is the value of bacon.index(&#39;cat&#39;)?**\n",
        "\n",
        "<br>It will return 1\n",
        "\n",
        "**Q7 How does bacon.append(99) change the look of the list value in bacon?**\n",
        "\n",
        "<br>This method will add a new member at the end of list bacon.\n",
        "\n",
        "**Q8 How does bacon.remove(&#39;cat&#39;) change the look of the list in bacon?**\n",
        "\n",
        "<br>This will remove the first instance of the cat from the list. --> [3.14, '11', 'cat', True]\n",
        "\n",
        "**Q9 What are the list concatenation and list replication operators?**\n",
        "\n",
        "<br>The operator for list concatenation is +, while the operator for replication is *.\n",
        "\n",
        "**Q10 What is difference between the list methods append() and insert()?**\n",
        "\n",
        "<br>The only difference between append() and insert() is that insert function allows us to add a specific element at a specified index of the list unlike append() where we can add the element only at end of the list.\n",
        "\n",
        "**Q11 What are the two methods for removing items from a list?**\n",
        "\n",
        "<br>The two methods we can use to remove items from a list are pop() and remove(). Uses Index and Value respectively to remove items from the list.\n",
        "\n",
        "**Q12 Describe how list values and string values are identical.**\n",
        "\n",
        "<br>Both list and string have lenghts, where elements in a list and characters in a string can be accesed using the index to determinte their respective positions.\n",
        "\n",
        "**Q13 What&#39;s the difference between tuples and lists?**\n",
        "\n",
        "<br>The primary difference between tuples and lists is that tuples are immutable as opposed to lists which are mutable. Therefore, it is possible to change a list but not a tuple.\n",
        "\n",
        "**Q14 How do you type a tuple value that only contains the integer 42?**\n",
        "\n",
        "<br>To create a tuple with only one element inside, end this with a comma.\n",
        "<pre>\n",
        "int_tuple = (42,)\n",
        "</pre>\n",
        "\n",
        "**Q15 How do you get a list value&#39;s tuple form? How do you get a tuple value&#39;s list form?**\n",
        "\n",
        "<br>To convert list in tuple we use a built in function called as tuple. To convert a tuple in a list we can use another built in function called list.\n",
        "\n",
        "**Q16 Variables that &quot;contain&quot; list values are not necessarily lists themselves. Instead, what do they\n",
        "contain?**\n",
        "\n",
        "<br> Variables that contain list values, store refrence/address to the list elements and not the list itself.\n",
        "\n",
        "**Q17 How do you distinguish between copy.copy() and copy.deepcopy()?**\n",
        "\n",
        "<br>  For collections that are mutable or contain mutable items, a copy is sometimes needed so one can change one copy without changing the other.\n",
        "\n",
        "A shallow copy constructs a new compound object and then (to the extent possible) inserts references into it to the objects found in the original.\n",
        "\n",
        "A deep copy constructs a new compound object and then, recursively, inserts copies into it of the objects found in the original.\n",
        "\n",
        "\n"
      ]
    }
  ]
}