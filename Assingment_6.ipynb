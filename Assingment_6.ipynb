{
  "nbformat": 4,
  "nbformat_minor": 0,
  "metadata": {
    "colab": {
      "provenance": [],
      "authorship_tag": "ABX9TyP+vDdKKqQ1V69AnALG3JvZ",
      "include_colab_link": true
    },
    "kernelspec": {
      "name": "python3",
      "display_name": "Python 3"
    },
    "language_info": {
      "name": "python"
    }
  },
  "cells": [
    {
      "cell_type": "markdown",
      "metadata": {
        "id": "view-in-github",
        "colab_type": "text"
      },
      "source": [
        "<a href=\"https://colab.research.google.com/github/Nikhiladmire7739/python-learning/blob/master/Assingment_6.ipynb\" target=\"_parent\"><img src=\"https://colab.research.google.com/assets/colab-badge.svg\" alt=\"Open In Colab\"/></a>"
      ]
    },
    {
      "cell_type": "markdown",
      "source": [
        "#ASSINGMENT_6\n",
        "**Q1 What are escape characters, and how do you use them?**\n",
        "<br>1) Some charachters that stand some specfic meaning in programing languages can not be directly used in Strings. Hence we use specaial set of charters to replace that particular characters.\n",
        "\n",
        "**Q2 What do the escape characters n and t stand for?**\n",
        "<br>1) \\n is a newline; \\t is a tab.\n",
        "\n",
        "**Q3 What is the way to include backslash characters in a string?**\n",
        "<br>1) The \\\\\\\\ escape character will represent a backslash character.\n",
        "\n",
        "**Q4 The string &quot;Howl&#39;s Moving Castle&quot; is a correct value. Why isn&#39;t the single quote character in the word Howl&#39;s not escaped a problem?**\n",
        "<br>1) The single quote in Howl's is fine because we’ve used double quotes to mark the beginning and end of the string.\n",
        "\n",
        "**Q5 How do you write a string of newlines if you don&#39;t want to use the n character?**\n",
        "<br>1) Multiline Strings can allow us to write string in a new line without the use of n character, Eg ; \"\"\"This defines a mulitine string.\"\"\"\n",
        "\n",
        "**Q6 What are the values of the given expressions?**\n",
        "<br>**&#39;Hello, world!&#39;[1]**\n",
        "<br>**&#39;Hello, world!&#39;[0:5]**\n",
        "<br>**&#39;Hello, world!&#39;[:5]**\n",
        "<br>**&#39;Hello, world!&#39;[3:]**\n",
        "<br>1)e\n",
        "<br>2)Hello\n",
        "<br>3)Hello\n",
        "<br>4)lo, world\n",
        "\n",
        "**Q7 What are the values of the following expressions?**\n",
        "<br>**&#39;Hello&#39;.upper()**\n",
        "<br>**&#39;Hello&#39;.upper().isupper()**\n",
        "<br>**&#39;Hello&#39;.upper().lower()**\n",
        "<br>1)'HELLO' \n",
        "<br>2)True\n",
        "<br>3)'hello'\n",
        "\n",
        "**Q8 What are the values of the following expressions?**\n",
        "<br>**'Remember, remember, the fifth of July.'.split()**\n",
        "<br>**'-'.join('There can only one.'.split())**\n",
        "<br>1) ['Remember,', 'remember,', 'the', 'fifth', 'of', 'July.']\n",
        "<br>2) There-can-only-one.\n",
        "\n",
        "**Q9 What are the methods for right-justifying, left-justifying, and centering a string?**\n",
        "<br>1) These are rjust(), ljust(), and center() string methods, respectively\n",
        "\n",
        "**Q10 What is the best way to remove whitespace characters from the start or end?**\n",
        "<br>1) The lstrip() and rstrip() methods remove whitespace from the left and right ends of a string, respectively"
      ],
      "metadata": {
        "id": "0xfGkaJIi3NO"
      }
    }
  ]
}