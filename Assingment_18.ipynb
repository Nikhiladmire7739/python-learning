{
  "nbformat": 4,
  "nbformat_minor": 0,
  "metadata": {
    "colab": {
      "provenance": [],
      "authorship_tag": "ABX9TyP21hd5/dBsyDNcKLYhINV+",
      "include_colab_link": true
    },
    "kernelspec": {
      "name": "python3",
      "display_name": "Python 3"
    },
    "language_info": {
      "name": "python"
    }
  },
  "cells": [
    {
      "cell_type": "markdown",
      "metadata": {
        "id": "view-in-github",
        "colab_type": "text"
      },
      "source": [
        "<a href=\"https://colab.research.google.com/github/Nikhiladmire7739/python-learning/blob/master/Assingment_18.ipynb\" target=\"_parent\"><img src=\"https://colab.research.google.com/assets/colab-badge.svg\" alt=\"Open In Colab\"/></a>"
      ]
    },
    {
      "cell_type": "markdown",
      "source": [
        "#ASSINGMENT_18\n",
        "**Q1 Create a zoo.py file first. Define the hours() function, which prints the string &#39;Open 9-5 daily&#39;. Then, use the interactive interpreter to import the zoo module and call its hours() function.**\n",
        "\n",
        "<br>1) consedring the python file \"zoo.py\" is saved in same directory\n",
        "<pre>def hours():\n",
        "    print('Open 9 - 5 daily')\n",
        "</pre>\n",
        "\n",
        "<pre>\n",
        "import zoo\n",
        "zoo.hours()\n",
        "</pre>\n",
        "\n",
        "**Q2 In the interactive interpreter, import the zoo module as menagerie and call its hours() function.**\n",
        "\n",
        "<pre>\n",
        "import zoo as menagerie\n",
        "menagerie.hours()\n",
        "</pre>\n",
        "\n",
        "**Q3 Using the interpreter, explicitly import and call the hours() function from zoo.**\n",
        "\n",
        "<pre>\n",
        "from zoo import hours\n",
        "hours()\n",
        "</pre>\n",
        "\n",
        "**Q4 Import the hours() function as info and call it.**\n",
        "\n",
        "<pre>\n",
        "from zoo import hours as info\n",
        "info()\n",
        "</pre>\n",
        "\n",
        "**Q5 Create a plain dictionary with the key-value pairs &#39;a&#39;: 1, &#39;b&#39;: 2, and &#39;c&#39;: 3, and print it out.**\n",
        "\n",
        "<pre>\n",
        "plain = {'a':1, 'b':2, 'c':3 }\n",
        "print(plain)\n",
        "</pre>\n",
        "\n",
        "\n",
        "**Q6 Make an OrderedDict called fancy from the same pairs listed in 5 and print it. Did it print in the same order as plain?**\n",
        "\n",
        "<br>1) Yes it would print the same as plain.\n",
        "<pre>\n",
        "from collections import OrderedDict\n",
        "fancy = OrderedDict([('a', 1), ('b', 2), ('c', 3)])\n",
        "fancy\n",
        "</pre>\n",
        "\n",
        "**Q7 Make a default dictionary called dict_of_lists and pass it the argument list. Make the list dict_of_lists[&#39;a&#39;] and append the value &#39;omething for a&#39; to it in one assignment. Print dict_of_lists[&#39;a&#39;].**\n",
        "\n",
        "<pre>\n",
        "from collections import defaultdict\n",
        "dict_of_lists = defaultdict(list)\n",
        "dict_of_lists['a'].append('something for a')\n",
        "dict_of_lists['a']\n",
        "</pre>\n"
      ],
      "metadata": {
        "id": "41PKGYbjYJce"
      }
    }
  ]
}