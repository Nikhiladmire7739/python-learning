{
  "nbformat": 4,
  "nbformat_minor": 0,
  "metadata": {
    "colab": {
      "name": "Assingment_3.ipynb",
      "provenance": [],
      "collapsed_sections": [],
      "authorship_tag": "ABX9TyMQyS0yxB2ORRg/Pn53PHfP"
    },
    "kernelspec": {
      "name": "python3",
      "display_name": "Python 3"
    },
    "language_info": {
      "name": "python"
    }
  },
  "cells": [
    {
      "cell_type": "markdown",
      "source": [
        "#ASSINGMENT_3\n",
        "**Q1 Why are functions advantageous to have in your programs?**\n",
        "\n",
        "<br>Functions reduce the need for duplicate code. This makes programs shorter, easier to read, and easier to update.\n",
        "\n",
        "**Q2 When does the code in a function run: when it&#39;s specified or when it&#39;s called?**\n",
        "\n",
        "<br>The code in a function executes when the function is called, not when the function is defined.\n",
        "\n",
        "**Q3 What statement creates a function?**\n",
        "\n",
        "<br>The def statement defines (that is, creates) a function.\n",
        "\n",
        "**Q4 What is the difference between a function and a function call?**\n",
        "\n",
        "<br>A function consists of the def statement and the code in its def clause.\n",
        "\n",
        "A function call is what moves the program execution into the function, and the function call evaluates to the function's return value.\n",
        "\n",
        "**Q5 How many global scopes are there in a Python program? How many local scopes?**\n",
        "\n",
        "<br>There is one global scope, and a local scope is created whenever a function is called.\n",
        "\n",
        "**Q6 What happens to variables in a local scope when the function call returns?**\n",
        "\n",
        "<br>When a function returns, the local scope is destroyed, and all the variables in it are forgotten.\n",
        "\n",
        "**Q7 What is the concept of a return value? Is it possible to have a return value in an expression?**\n",
        "\n",
        "<br>A return value is the value that a function call evaluates to. Like any value, a return value can be used as part of an expression.\n",
        "\n",
        "**Q8 If a function does not have a return statement, what is the return value of a call to that function?**\n",
        "\n",
        "<br>If there is no return statement for a function, its return value is None.\n",
        "\n",
        "**Q9 How do you make a function variable refer to the global variable?**\n",
        "\n",
        "<br>A global statement will force a variable in a function to refer to the global variable.\n",
        "\n",
        "\n",
        "**Q10 What is the data type of None?**\n",
        "\n",
        "<br>The data type of None is NoneType.\n",
        "\n",
        "**Q11 What does the sentence import areallyourpetsnamederic do?**\n",
        "\n",
        "<br>That import statement imports a module named areallyourpetsnamederic. (This isn't a real Python module, by the way.)\n",
        "\n",
        "**Q12 If you had a bacon() feature in a spam module, what would you call it after importing spam?**\n",
        "\n",
        "<br>This function can be called with spam.bacon().\n",
        "\n",
        "**Q13 What can you do to save a programme from crashing if it encounters an error?**\n",
        "\n",
        "<br>Place the line of code that might cause an error in a try clause.\n",
        "\n",
        "**Q13 What is the purpose of the try clause? What is the purpose of the except clause?**\n",
        "\n",
        "<br>The code that could potentially cause an error goes in the try clause.\n",
        "\n",
        "The code that executes if an error happens goes in the except clause."
      ],
      "metadata": {
        "id": "sQ9Fxa7iW3RB"
      }
    }
  ]
}