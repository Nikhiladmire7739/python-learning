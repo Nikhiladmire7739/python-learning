{
  "nbformat": 4,
  "nbformat_minor": 0,
  "metadata": {
    "colab": {
      "provenance": [],
      "authorship_tag": "ABX9TyOQhhxcfKDThiXNkl0u4p1H",
      "include_colab_link": true
    },
    "kernelspec": {
      "name": "python3",
      "display_name": "Python 3"
    },
    "language_info": {
      "name": "python"
    }
  },
  "cells": [
    {
      "cell_type": "markdown",
      "metadata": {
        "id": "view-in-github",
        "colab_type": "text"
      },
      "source": [
        "<a href=\"https://colab.research.google.com/github/Nikhiladmire7739/python-learning/blob/master/Assingment_14.ipynb\" target=\"_parent\"><img src=\"https://colab.research.google.com/assets/colab-badge.svg\" alt=\"Open In Colab\"/></a>"
      ]
    },
    {
      "cell_type": "markdown",
      "source": [
        "#ASSINGMENT_14\n",
        "**Q1 What does RGBA stand for?**\n",
        "\n",
        "<br>1) RGBA stands for red, green, blue, and alpha (transparency) in the color\n",
        "<br>2) An RGBA value is a tuple of 4 integers, each ranging from 0 to 255. The four integers correspond to the amount of red, green, blue, and alpha (transparency) in the color.\n",
        "\n",
        "**Q2 From the Pillow module, how do you get the RGBA value of any images?**\n",
        "\n",
        "<pre>\n",
        "from PIL import ImageColor\n",
        "ImageColor.getcolor('green', 'RGBA')\n",
        "ImageColor.getcolor('red', 'RGBA')\n",
        "</pre>\n",
        "\n",
        "**Q3 What is a box tuple, and how does it work?**\n",
        "\n",
        "<br>1) A box tuple is a tuple value of four integers: the left edge x-coordinate, the top edge y-coordinate, the width, and the height, respectively\n",
        "\n",
        "**Q4 Use your image and load in notebook then, How can you find out the width and height of an Image object?**\n",
        "\n",
        "<PRE>from google.colab import files\n",
        "uploaded = files.upload()\n",
        "\n",
        "from PIL import Image\n",
        "myImg = Image.open('xyz.jpg')\n",
        "w,h = myImg.size\n",
        "w,h</PRE>\n",
        "\n",
        "**Q5 What method would you call to get Image object for a 100×100 image, excluding the lower-left quarter of it?**\n",
        "\n",
        "<br>1) ImageObject.crop((0, 50, 50, 50))\n",
        "\n",
        "**Q6 After making changes to an Image object, how could you save it as an image file?**\n",
        "\n",
        "<br>1) By Calling the imageObj.save('new_filename.png') method of the Image object.\n",
        "\n",
        "**Q7 What module contains Pillow’s shape-drawing code?**\n",
        "\n",
        "<BR>1)  The ImageDraw module contains code to draw on images\n",
        "\n",
        "**Q8 What module contains Pillow’s shape-drawing code?**\n",
        "\n",
        "<BR>1)  ImageDraw objects have shape-drawing methods such as point(), line(), or rectangle(). They are returned by passing the Image object to the ImageDraw.Draw() function"
      ],
      "metadata": {
        "id": "FMaCyJ-WTbO2"
      }
    }
  ]
}